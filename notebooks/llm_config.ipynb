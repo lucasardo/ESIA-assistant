{
 "cells": [
  {
   "cell_type": "markdown",
   "metadata": {},
   "source": [
    "## Setup"
   ]
  },
  {
   "cell_type": "code",
   "execution_count": 98,
   "metadata": {},
   "outputs": [],
   "source": [
    "from st_helper import *\n",
    "import os"
   ]
  },
  {
   "cell_type": "code",
   "execution_count": 99,
   "metadata": {},
   "outputs": [
    {
     "data": {
      "text/plain": [
       "True"
      ]
     },
     "execution_count": 99,
     "metadata": {},
     "output_type": "execute_result"
    }
   ],
   "source": [
    "from dotenv import load_dotenv\n",
    "load_dotenv(r\"C:\\Users\\ITLS104415\\Desktop\\GitHub Repositories\\ESIA Assistant\\credentials.env\")"
   ]
  },
  {
   "cell_type": "code",
   "execution_count": 100,
   "metadata": {},
   "outputs": [],
   "source": [
    "azure_endpoint = os.environ['AZURE_ENDPOINT']\n",
    "openai_api_key = os.environ['OPENAI_API_KEY']\n",
    "\n",
    "openai_deployment_name = os.environ['GPT_DEPLOYMENT_NAME']\n",
    "openai_api_version = os.environ['OPENAI_API_VERSION']\n",
    "embedding_model = os.environ['EMBEDDING_MODEL']\n",
    "embedding_deployment_name = os.environ['EMBEDDING_DEPLOYMENT_NAME']\n",
    "\n",
    "search_endpoint = os.environ['SEARCH_ENDPOINT']\n",
    "search_api_key = os.environ['SEARCH_API_KEY']\n",
    "search_api_version = os.environ['SEARCH_API_VERSION']\n",
    "search_service_name = os.environ['SEARCH_SERVICE_NAME']\n",
    "\n",
    "search_credential = AzureKeyCredential(search_api_key)\n",
    "\n",
    "connection_string = os.environ['CONNECTION_STRINGS']\n",
    "container_name = os.environ['CONTAINER_NAME']\n",
    "storage_name = os.environ['STORAGE_NAME']\n",
    "\n",
    "# Parameters\n",
    "max_tokens = 4096\n",
    "dimensionality = 1536"
   ]
  },
  {
   "cell_type": "code",
   "execution_count": 101,
   "metadata": {},
   "outputs": [],
   "source": [
    "def compute_tokens():\n",
    "    \n",
    "    input = next(client.list_runs(project_name=\"ESIA Agent\", filter='eq(name, \"RunnableSequence\")')).prompt_tokens\n",
    "    print(f\"Input tokens: {input}\")\n",
    "    output = next(client.list_runs(project_name=\"ESIA Agent\", filter='eq(name, \"RunnableSequence\")')).completion_tokens\n",
    "    print(f\"Output tokens: {output}\")"
   ]
  },
  {
   "cell_type": "markdown",
   "metadata": {},
   "source": [
    "## Test"
   ]
  },
  {
   "cell_type": "markdown",
   "metadata": {},
   "source": [
    "### Classes"
   ]
  },
  {
   "cell_type": "code",
   "execution_count": 102,
   "metadata": {},
   "outputs": [],
   "source": [
    "index_name = \"climate-city-contracts\"\n",
    "\n",
    "indexes = [index_name]\n",
    "\n",
    "llm = AzureChatOpenAI(deployment_name=openai_deployment_name, openai_api_version=openai_api_version,\n",
    "                        openai_api_key=openai_api_key, azure_endpoint=azure_endpoint, temperature = 0)\n"
   ]
  },
  {
   "cell_type": "code",
   "execution_count": 103,
   "metadata": {},
   "outputs": [],
   "source": [
    "question = \"Is there any mention of 'carbon capture and storage' in this climate city contract?\""
   ]
  },
  {
   "cell_type": "code",
   "execution_count": 104,
   "metadata": {},
   "outputs": [],
   "source": [
    "def get_search_results(query: str, \n",
    "                       filters: str,\n",
    "                       indexes: list,\n",
    "                       k: int,\n",
    "                       reranker_threshold: int = 1,\n",
    "                       sas_token: str = \"\",\n",
    "                       ) -> List[dict]:\n",
    "    \"\"\"Performs multi-index hybrid search and returns ordered dictionary with the combined results\"\"\"\n",
    "    \n",
    "    # Define the request headers\n",
    "    headers = {\n",
    "        \"Content-Type\": \"application/json\",\n",
    "        \"api-key\": search_api_key  # Replace with your actual API key\n",
    "    }\n",
    "\n",
    "    params = {'api-version': search_api_version}\n",
    "    \n",
    "    agg_search_results = dict()\n",
    "\n",
    "    # Define the request payload\n",
    "    search_payload = {\n",
    "        \"search\": query,\n",
    "        \"select\": \"id, doc_path, city, chunk\",\n",
    "        \"filter\": filters,\n",
    "        \"vectorQueries\": [{\"kind\": \"text\", \"k\": k, \"fields\": \"embedding\", \"text\": query}],\n",
    "        \"count\": \"true\",\n",
    "        \"top\": k\n",
    "    }\n",
    "    \n",
    "    response = requests.post(search_endpoint + \"indexes/\" + index_name + \"/docs/search\",\n",
    "                         data=json.dumps(search_payload), headers=headers, params=params)\n",
    "\n",
    "    search_results = response.json()\n",
    "    agg_search_results[index_name] = search_results\n",
    "\n",
    "    reranker_threshold = 0\n",
    "\n",
    "    content = dict()\n",
    "    ordered_content = OrderedDict()\n",
    "\n",
    "    for index, search_results in agg_search_results.items():\n",
    "        for result in search_results['value']:\n",
    "            # Show results that are at least N% of the max possible score=4\n",
    "            if result['@search.score'] > reranker_threshold:\n",
    "                content[result['id']] = {\n",
    "                    \"chunk\": result['chunk'],\n",
    "                    \"location\": result['doc_path'],\n",
    "                    \"city\": result['city'],\n",
    "                    \"score\": result['@search.score'],\n",
    "                    \"index\": index\n",
    "                }\n",
    "\n",
    "    topk = k\n",
    "\n",
    "    count = 0  # To keep track of the number of results added\n",
    "    for id in sorted(content, key=lambda x: content[x][\"score\"], reverse=True):\n",
    "        ordered_content[id] = content[id]\n",
    "        count += 1\n",
    "        if count >= topk:  # Stop after adding topK results\n",
    "            break\n",
    "\n",
    "    return ordered_content   "
   ]
  },
  {
   "cell_type": "code",
   "execution_count": 105,
   "metadata": {},
   "outputs": [],
   "source": [
    "class CustomAzureSearchRetriever(BaseRetriever):\n",
    "\n",
    "    indexes: List\n",
    "    filters: str\n",
    "    topK: int\n",
    "    reranker_threshold: int\n",
    "    sas_token: str = \"\"\n",
    "\n",
    "    def _get_relevant_documents(\n",
    "        self, query: str, *, run_manager: CallbackManagerForRetrieverRun\n",
    "    ) -> List[Document]:\n",
    "\n",
    "        ordered_results = get_search_results(\n",
    "            query, indexes=self.indexes, filters=self.filters, k=self.topK, reranker_threshold=self.reranker_threshold, sas_token=self.sas_token)\n",
    "\n",
    "        top_docs = []\n",
    "        for key, value in ordered_results.items():\n",
    "            location = value[\"location\"] if value[\"location\"] is not None else \"\"\n",
    "            try:\n",
    "                top_docs.append(Document(page_content=value[\"chunk\"], metadata={\n",
    "                    \"source\": location, \"score\": value[\"score\"]}))\n",
    "            except:\n",
    "                print(\"An exception occurred\")\n",
    " \n",
    "        # print(top_docs) \n",
    "\n",
    "        return top_docs\n",
    "    "
   ]
  },
  {
   "cell_type": "code",
   "execution_count": 106,
   "metadata": {},
   "outputs": [],
   "source": [
    "class GetDocSearchResults_Tool(BaseTool):\n",
    "    name = \"docsearch\"\n",
    "    description = \"Tool to search for sources to be used to answer questions\"\n",
    "    args_schema: Type[BaseModel] = SearchInput\n",
    "\n",
    "    indexes: List[str] = []\n",
    "    filters: str\n",
    "    k: int = 20\n",
    "    reranker_th: int = 1\n",
    "    sas_token: str = \"\"\n",
    "\n",
    "    def _run(\n",
    "        self, query: str, run_manager: Optional[CallbackManagerForToolRun] = None\n",
    "    ) -> str:\n",
    "\n",
    "        retriever = CustomAzureSearchRetriever(indexes=self.indexes, filters=self.filters, topK=self.k, reranker_threshold=self.reranker_th,\n",
    "                                               sas_token=self.sas_token, callback_manager=self.callbacks)\n",
    "        tool_results = retriever.invoke(input=query)\n",
    "        \n",
    "        return tool_results"
   ]
  },
  {
   "cell_type": "code",
   "execution_count": 107,
   "metadata": {},
   "outputs": [
    {
     "name": "stdout",
     "output_type": "stream",
     "text": [
      "city eq 'parma' or city eq 'barcelona' or city eq 'stockholm'\n"
     ]
    }
   ],
   "source": [
    "cities=[\"Parma\", \"Barcelona\", \"Stockholm\"]\n",
    "lower_cities = [city.lower() for city in cities]\n",
    "lower_cities\n",
    "\n",
    "for city in lower_cities[:1]:\n",
    "    fltrs = f\"city eq '{city}'\"\n",
    "\n",
    "try:\n",
    "    for city in lower_cities[1:]:\n",
    "        part = f\" or city eq '{city}'\"\n",
    "        fltrs += part\n",
    "except:\n",
    "    pass\n",
    "\n",
    "print(fltrs)"
   ]
  },
  {
   "cell_type": "code",
   "execution_count": 110,
   "metadata": {},
   "outputs": [
    {
     "data": {
      "text/plain": [
       "\"city eq 'parma' or city eq 'barcelona' or city eq 'stockholm'\""
      ]
     },
     "execution_count": 110,
     "metadata": {},
     "output_type": "execute_result"
    }
   ],
   "source": [
    "fltrs"
   ]
  },
  {
   "cell_type": "code",
   "execution_count": 136,
   "metadata": {},
   "outputs": [],
   "source": [
    "question = \"Where is Parma?\"\n",
    "\n",
    "prompt = AGENT_DOCSEARCH_PROMPT\n",
    "\n",
    "k = 20\n",
    "rth = 0\n",
    "\n",
    "cities=[\"Parma\", \"Barcelona\", \"Stockholm\"]\n",
    "lower_cities = [city.lower() for city in cities]\n",
    "lower_cities\n",
    "\n",
    "for city in lower_cities[:1]:\n",
    "    fltrs = f\"city eq '{city}'\"\n",
    "\n",
    "try:\n",
    "    for city in lower_cities[1:]:\n",
    "        part = f\" or city eq '{city}'\"\n",
    "        fltrs += part\n",
    "except:\n",
    "    pass\n",
    "\n",
    "# Retrieval\n",
    "\n",
    "tools = [GetDocSearchResults_Tool(\n",
    "indexes=indexes, filters=fltrs, k=k, reranker_th=rth, sas_token='na')]\n",
    "\n",
    "agent = create_openai_tools_agent(llm, tools, prompt)\n",
    "\n",
    "agent_executor = AgentExecutor(\n",
    "agent=agent, tools=tools, handle_parsing_errors=True, verbose=False)\n",
    "\n",
    "with_message_history = RunnableWithMessageHistory(\n",
    "agent_executor,\n",
    "get_session_history,\n",
    "input_messages_key=\"question\",\n",
    "history_messages_key=\"history\"\n",
    ")\n",
    "\n",
    "session_id = 124\n",
    "\n",
    "response = with_message_history.invoke(\n",
    "    {\"question\": question},\n",
    "    config={\"configurable\": {\"session_id\": session_id}}\n",
    ")\n",
    "\n",
    "history = update_history(session_id, question, response[\"output\"], indexes)\n",
    "\n",
    "history = history[-3:]\n",
    "\n",
    "full_response = {\n",
    "    \"question\": question,\n",
    "    \"output\": response[\"output\"],\n",
    "    \"history\": history\n",
    "}\n",
    "\n",
    "response_text = full_response['output']   \n",
    "final_response = f\"{response_text}\"\n",
    "\n",
    "# Sources\n",
    "\n",
    "retriever = CustomAzureSearchRetriever(indexes=indexes, filters=fltrs, topK=k, reranker_threshold=rth,\n",
    "                                        sas_token=\"\")\n",
    "tool_results = retriever.get_relevant_documents(query=question)"
   ]
  },
  {
   "cell_type": "code",
   "execution_count": 137,
   "metadata": {},
   "outputs": [
    {
     "data": {
      "text/plain": [
       "'Parma is a city located in the Emilia-Romagna region of northern Italy. It is situated in the Po Valley and is known for its rich cultural heritage, historical architecture, and culinary traditions. The city of Parma is actively involved in climate neutrality commitments and has implemented various initiatives and projects to achieve its climate goals.\\n\\nReference:\\n- Climate City Contract. City of Parma'"
      ]
     },
     "execution_count": 137,
     "metadata": {},
     "output_type": "execute_result"
    }
   ],
   "source": [
    "final_response"
   ]
  },
  {
   "cell_type": "code",
   "execution_count": 128,
   "metadata": {},
   "outputs": [
    {
     "data": {
      "text/plain": [
       "[Document(metadata={'source': 'C:\\\\Users\\\\ITLS104415\\\\Desktop\\\\Progetti\\\\CCC\\\\barcelona_nzc_ccc_ok.pdf', 'score': 0.02878289483487606}, page_content='Climate City Contract. City of Barcelona           164 \\uf0b7 Blue carbon\" programme, promoting marine carbon sinks (Posidonia) on the \\ncoast of Barcelona (Garraf and Maresme). This is the only action programme \\nthat goes well beyond the municipal area. '),\n",
       " Document(metadata={'source': 'C:\\\\Users\\\\ITLS104415\\\\Desktop\\\\Progetti\\\\CCC\\\\barcelona_nzc_ccc_ok.pdf', 'score': 0.027071520686149597}, page_content='Climate City Contract. City of Barcelona           5 Annex 1: Climate Action Plan for the ci ty of \\nBarcelona  \\n \\nIntroduction  \\n \\nCity Context  \\nThe City of Barcelona has an area of 101.7 square kilometers and a population of \\n1.66 million (as of January 1, 2023), which represents a population density of 13,327 \\ninhabitants per square kilometer. Considerin g the floating population (students and \\nother non -registered inhabitants), the real population was estimated in 2020  at \\n1,783,556 people (751,378 households). '),\n",
       " Document(metadata={'source': 'C:\\\\Users\\\\ITLS104415\\\\Desktop\\\\Progetti\\\\CCC\\\\barcelona_nzc_ccc_ok.pdf', 'score': 0.02633390575647354}, page_content=\"B arcelona's economy is based on s ervices, \\nwhich represent more than 90% of the employed population. The industry has lost \\nrelevance in recent decades, largely because it has moved to  other areas of the \\nincreasingly extensive metropolitan region of Barcelona . \\n \\nSource: Barcelona City Council\"),\n",
       " Document(metadata={'source': 'C:\\\\Users\\\\ITLS104415\\\\Desktop\\\\Progetti\\\\CCC\\\\barcelona_nzc_ccc_ok.pdf', 'score': 0.023704789578914642}, page_content='Climate City Contract. City of Barcelona           1'),\n",
       " Document(metadata={'source': 'C:\\\\Users\\\\ITLS104415\\\\Desktop\\\\Progetti\\\\CCC\\\\barcelona_nzc_ccc_ok.pdf', 'score': 0.023348236456513405}, page_content='Climate City Contract. City of Barcelona           217'),\n",
       " Document(metadata={'source': 'C:\\\\Users\\\\ITLS104415\\\\Desktop\\\\Progetti\\\\CCC\\\\barcelona_nzc_ccc_ok.pdf', 'score': 0.02325863018631935}, page_content='Climate City Contract. City of Barcelona           31 with the goal of zero emissions. 40 Strategy Metropolitan Metropolitan Territorial Plan of Barcelona (2010) Partial territorial plan for the metropolitan region, which includes the territory of the counties of Alt Penedès, Baix Llobregat, Barcelonès, Garraf, Maresme, Vallès Occidental and Vallès Oriental. Medium-low. '),\n",
       " Document(metadata={'source': 'C:\\\\Users\\\\ITLS104415\\\\Desktop\\\\Progetti\\\\CCC\\\\barcelona_nzc_ccc_ok.pdf', 'score': 0.02296750620007515}, page_content='Climate City Contract. City of Barcelona           77 Solar generation in the municipality of Barcelona 10. Renewable energy generation programme in municipal buildings and public space. '),\n",
       " Document(metadata={'source': 'C:\\\\Users\\\\ITLS104415\\\\Desktop\\\\Progetti\\\\CCC\\\\barcelona_nzc_ccc_ok.pdf', 'score': 0.022877847775816917}, page_content='Climate City Contract. City of Barcelona           4'),\n",
       " Document(metadata={'source': 'C:\\\\Users\\\\ITLS104415\\\\Desktop\\\\Progetti\\\\CCC\\\\barcelona_nzc_ccc_ok.pdf', 'score': 0.022045856341719627}, page_content='Climate City Contract. City of Barcelona           219'),\n",
       " Document(metadata={'source': 'C:\\\\Users\\\\ITLS104415\\\\Desktop\\\\Progetti\\\\CCC\\\\barcelona_nzc_ccc_ok.pdf', 'score': 0.021542159840464592}, page_content='Climate City Contract. City of Barcelona           154 equitable economy. '),\n",
       " Document(metadata={'source': 'C:\\\\Users\\\\ITLS104415\\\\Desktop\\\\Progetti\\\\CCC\\\\barcelona_nzc_ccc_ok.pdf', 'score': 0.021075308322906494}, page_content='Implementation Bodies/persons  Barcelona City Council'),\n",
       " Document(metadata={'source': 'C:\\\\Users\\\\ITLS104415\\\\Desktop\\\\Progetti\\\\CCC\\\\barcelona_nzc_ccc_ok.pdf', 'score': 0.020985979586839676}, page_content='Climate City Contract. City of Barcelona           52 Network Business sector In Barcelona there are 186,731 registered companies (1/1/2022), of which 99% have fewer than 50 employees and almost 90% are in the service sector. There are several business networks, organised by size (Foment, PIMEC...) and by sector. '),\n",
       " Document(metadata={'source': 'C:\\\\Users\\\\ITLS104415\\\\Desktop\\\\Progetti\\\\CCC\\\\barcelona_nzc_ccc_ok.pdf', 'score': 0.020918328315019608}, page_content='Climate City Contract. City of Barcelona           189'),\n",
       " Document(metadata={'source': 'C:\\\\Users\\\\ITLS104415\\\\Desktop\\\\Progetti\\\\CCC\\\\barcelona_nzc_ccc_ok.pdf', 'score': 0.020633012056350708}, page_content=\"Climate City Contract. City of Barcelona           7 buildings), the urban environment, in the broad sense, and mobility (which includes \\nthe regulation of mobility and the provision of public transport ). To this  we must add  \\nthe provision of basic services , such as water (considering the whole cycle) and waste \\ncollection and management. Barcelona's E nvironmental Protection Ordinance (1999) \\nregulates the different elements of the environment that fall under local competence , \\nin accordance with current legislation.  \\nOn the other hand, Barcelona is the head of a metropolitan area whose first ring (36 \\nmuni cipalities, 636 km2, 3.3 million inhabitants) enjoys since 2010 institutional status, \\nthrough  the Metropolitan Area of Barcelona , which manages, by delegation of the \\nmunicipalities that make it up, metropolitan p ublic transport (bus and metro \\nnetwork), water supply, waste management and urban/territorial planning.  \\nThe regulation and management of public transport beyond the AMB (suburban \\nnetworks, buses and the tram service) is the responsibility of the Generalita t de \\nCatalunya, through the Metropolitan Transport Authority (ATM). The same applies to \\nthe territorial planning of the metropolitan region.  \\n\"),\n",
       " Document(metadata={'source': 'C:\\\\Users\\\\ITLS104415\\\\Desktop\\\\Progetti\\\\CCC\\\\barcelona_nzc_ccc_ok.pdf', 'score': 0.020326340571045876}, page_content=\"Climate City Contract. City of Barcelona           51 Innovative ecosystem BIT Habitat Foundation Urban Innovation Centres Working Group EIT Urban Mobility KIC5 BIC Council Universities and research centres European Network of Universities with Barcelona's leadership (ECIU and other) Public centres such as Institut Metròpoli i Barcelona Regional There are various spaces, more or less stable/formal, for the meeting of the organisations of the innovative ecosystem. But it also functions through micro-networks generated by specific projects. \"),\n",
       " Document(metadata={'source': 'C:\\\\Users\\\\ITLS104415\\\\Desktop\\\\Progetti\\\\CCC\\\\barcelona_nzc_ccc_ok.pdf', 'score': 0.019152047112584114}, page_content='Climate City Contract. City of Barcelona           146 neighbourhoods.  \\n- Providing the city with family play spaces that \\noffer educational environments in nature for \\nenjoyment, experimentation and socialisation.  \\n \\n'),\n",
       " Document(metadata={'source': 'C:\\\\Users\\\\ITLS104415\\\\Desktop\\\\Progetti\\\\CCC\\\\barcelona_nzc_ccc_ok.pdf', 'score': 0.01912238448858261}, page_content='Climate City Contract. City of Barcelona           183 ecosystem.  Barcelona Innova Lab Mobility  Urban laboratory that promotes innovative sustainable mobility projects and drives the testing of the solutions developed as pilots in real spaces in the city.   Fira de Barcelona / BIT Habitat Foundation / Commissioner for Strategic Projects and Agenda 2030 - DGT (General Directorate of Traffic of the Spanish Government) - EIT Urban Mobility The Lab includes projects such as the transformation of the H12 bus line into BRT, fully electric and optimised. It facilitates the collection of ideas and proposals from the private sector. '),\n",
       " Document(metadata={'source': 'C:\\\\Users\\\\ITLS104415\\\\Desktop\\\\Progetti\\\\CCC\\\\barcelona_nzc_ccc_ok.pdf', 'score': 0.018483318388462067}, page_content='Climate City Contract. City of Barcelona           76 buildings. Promoting research and development of technologies to increase the efficiency of energy consumption in buildings. '),\n",
       " Document(metadata={'source': 'C:\\\\Users\\\\ITLS104415\\\\Desktop\\\\Progetti\\\\CCC\\\\barcelona_nzc_ccc_ok.pdf', 'score': 0.017823858186602592}, page_content=\"Climate City Contract. City of Barcelona           143 take advantage of new business opportunities. The aim is to position the city as a benchmark with the creation of useful and coordinated instruments with the set of public and private agents with an impact on the entire metropolitan region. The proposal focuses on six key sectors to accompany companies in transforming the city's production model as a whole towards a more sustainable and competitive one: - Industry - Tourism - Construction and infrastructure - Mobility and transport - Energy - Trade, consumption and food The objectives of the roadmap are as follows: \\uf0b7 Accompanying companies in the transformation towards a more sustainable production model. \\uf0b7 Encourage and accelerate the generation of new entrepreneurial initiatives and new innovative business models. \"),\n",
       " Document(metadata={'source': 'C:\\\\Users\\\\ITLS104415\\\\Desktop\\\\Progetti\\\\CCC\\\\barcelona_nzc_ccc_ok.pdf', 'score': 0.01666666753590107}, page_content='Climate City Contract. City of Barcelona           45 \\uf0b7 Consolidate centres of reference in which opportunities for change and \\naltern ative spaces where social transformation in favour of sustainability can take \\nshape are visualised.  \\n\\uf0b7 Promote and amplify the work of the \"allied \" agents of the Barcelona + \\nSustainable network, strengthening the capacity of educators and facilitators of \\ncultural change.  \\n\\uf0b7 Consolidate education for sustainability and climate action in all the city\\'s \\neducational centres.  \\n\\uf0b7 Increase the visibility of the climate emergency on the municipal agenda \\n(political, media, cultural, educational), ensuring coherence between \\nsustainability and climate policies and cultural and educational policies.  \\n \\nThe Climate Emergency Action Plan 2030 is the main climate action planning \\ndocument. This action plan is the result of combining the Climate Plan, approved in \\n2018, and the Climate Emergency Declaration of 15 January 2020. The strategic axes \\non which the Climate Emergency Action Plan is based are the following:  \\n\\uf0b7 Mitigation. Actions are promoted to encourage savings, increase energy \\nefficiency and the refurbishment of buildings and to achieve more renewable \\nand local energy production. A commitment to reduce GHG emissions by 50% \\nby 2030 and 100% by 2050 compared to 1992 values is established as the \\nmain strategic objective.  \\n\\uf0b7 Adaptation. Barcelona City Council, together with the Meteorolo gical Service \\nof Catalonia and Barcelona Regional, has carried out several studies to find \\nout how climate change will affect the territory of Barcelona.  \\n\\uf0b7 Climate Justice. ')]"
      ]
     },
     "execution_count": 128,
     "metadata": {},
     "output_type": "execute_result"
    }
   ],
   "source": [
    "tool_results"
   ]
  },
  {
   "cell_type": "code",
   "execution_count": 138,
   "metadata": {},
   "outputs": [
    {
     "data": {
      "text/plain": [
       "[{'question': 'Where is Barcelona?',\n",
       "  'output': 'Barcelona is a city located in the northeastern part of Spain, specifically in the region of Catalonia. It has an area of 101.7 square kilometers and a population of 1.66 million (as of January 1, 2023), with a population density of 13,327 inhabitants per square kilometer. The city is known for its rich cultural heritage, vibrant architecture, and beautiful coastline along the Mediterranean Sea.\\n\\nReference:\\n- Climate City Contract. City of Barcelona',\n",
       "  'indexes': ['climate-city-contracts']},\n",
       " {'question': 'Where is Barcelona?',\n",
       "  'output': 'Barcelona is a city located in the northeastern part of Spain, specifically in the region of Catalonia. It has an area of 101.7 square kilometers and a population of 1.66 million (as of January 1, 2023), with a population density of 13,327 inhabitants per square kilometer. Considerin g the floating population (students and other non-registered inhabitants), the real population was estimated in 2020 at 1,783,556 people (751,378 households) (source: Climate City Contract. City of Barcelona).\\n\\nReference:\\n- Climate City Contract. City of Barcelona',\n",
       "  'indexes': ['climate-city-contracts']},\n",
       " {'question': 'Where is Parma?',\n",
       "  'output': 'Parma is a city located in the Emilia-Romagna region of northern Italy. It is situated in the Po Valley and is known for its rich cultural heritage, historical architecture, and culinary traditions. The city of Parma is actively involved in climate neutrality commitments and has implemented various initiatives and projects to achieve its climate goals.\\n\\nReference:\\n- Climate City Contract. City of Parma',\n",
       "  'indexes': ['climate-city-contracts']}]"
      ]
     },
     "execution_count": 138,
     "metadata": {},
     "output_type": "execute_result"
    }
   ],
   "source": [
    "history"
   ]
  },
  {
   "cell_type": "code",
   "execution_count": 131,
   "metadata": {},
   "outputs": [
    {
     "data": {
      "text/plain": [
       "[{'question': \"Is there any mention of 'carbon capture and storage' in this climate city contract?\",\n",
       "  'output': 'Yes, the Climate City Contract mentions \"Bio Energy Carbon Capture and Storage (BECCS)\" as a technique for permanently removing biogenic CO2 from the atmosphere. The document specifically states that Stockholm\\'s district energy provider, Stockholm Exergi, is developing a large-scale BECCS project to create a world-class, full-scale BECCS facility at Stockholm Exergi’s existing heat and power biomass plant (KVV8) in Stockholm. This project aims to capture and permanently store large quantities of biogenic CO2, resulting in carbon removal from the atmosphere and the creation of so-called “negative emissions” (source: Stockholm NZC Climate City Contract).\\n\\nThe document also mentions that the BECCS Stockholm project has the potential to remove around 800,000 tons of CO2 annually and is an important early adopter that has the potential to lead many other CCS projects to follow. Additionally, the financing of a large-scale BECCS plant will likely rely on three sources: EU, national government, and the sale of negative emission certificates on a voluntary carbon market (source: Stockholm NZC Climate City Contract).\\n\\nIn summary, the Climate City Contract for Stockholm includes detailed information about the development and implementation of Bio Energy Carbon Capture and Storage (BECCS) as a key technique for achieving negative emissions and addressing climate goals.\\n\\nReference:\\n- Stockholm NZC Climate City Contract',\n",
       "  'indexes': ['climate-city-contracts']},\n",
       " {'question': \"Is there any mention of 'carbon capture and storage' in this climate city contract?\",\n",
       "  'output': 'Yes, the Climate City Contract for Stockholm does mention \"Bio Energy Carbon Capture and Storage (BECCS)\" as a technique for permanently removing biogenic CO2 from the atmosphere. The document provides detailed information about the development and implementation of BECCS as a key technique for achieving negative emissions and addressing climate goals. Stockholm\\'s district energy provider, Stockholm Exergi, is developing a large-scale BECCS project to create a world-class, full-scale BECCS facility at Stockholm Exergi’s existing heat and power biomass plant (KVV8) in Stockholm. This project aims to capture and permanently store large quantities of biogenic CO2, resulting in carbon removal from the atmosphere and the creation of so-called “negative emissions” (source: Stockholm NZC Climate City Contract).\\n\\nThe document also mentions that the BECCS Stockholm project has the potential to remove around 800,000 tons of CO2 annually and is an important early adopter that has the potential to lead many other CCS projects to follow. Additionally, the financing of a large-scale BECCS plant will likely rely on three sources: EU, national government, and the sale of negative emission certificates on a voluntary carbon market (source: Stockholm NZC Climate City Contract).\\n\\nIn summary, the Climate City Contract for Stockholm includes detailed information about the development and implementation of Bio Energy Carbon Capture and Storage (BECCS) as a key technique for achieving negative emissions and addressing climate goals.\\n\\nReference:\\n- Stockholm NZC Climate City Contract',\n",
       "  'indexes': ['climate-city-contracts']},\n",
       " {'question': 'Where is Barcelona?',\n",
       "  'output': 'Barcelona is a city located in the northeastern part of Spain, specifically in the region of Catalonia. It has an area of 101.7 square kilometers and a population of 1.66 million (as of January 1, 2023), with a population density of 13,327 inhabitants per square kilometer. The city is known for its rich cultural heritage, vibrant architecture, and beautiful coastline along the Mediterranean Sea.\\n\\nReference:\\n- Climate City Contract. City of Barcelona',\n",
       "  'indexes': ['climate-city-contracts']}]"
      ]
     },
     "execution_count": 131,
     "metadata": {},
     "output_type": "execute_result"
    }
   ],
   "source": [
    "history[-3:]"
   ]
  },
  {
   "cell_type": "code",
   "execution_count": 132,
   "metadata": {},
   "outputs": [
    {
     "data": {
      "text/plain": [
       "{'question': 'Where is Barcelona?',\n",
       " 'history': [HumanMessage(content=\"Is there any mention of 'carbon capture and storage' in this climate city contract?\"),\n",
       "  AIMessage(content='Yes, the Climate City Contract mentions \"Bio Energy Carbon Capture and Storage (BECCS)\" as a technique for permanently removing biogenic CO2 from the atmosphere. The document specifically states that Stockholm\\'s district energy provider, Stockholm Exergi, is developing a large-scale BECCS project to create a world-class, full-scale BECCS facility at Stockholm Exergi’s existing heat and power biomass plant (KVV8) in Stockholm. This project aims to capture and permanently store large quantities of biogenic CO2, resulting in carbon removal from the atmosphere and the creation of so-called “negative emissions” (source: Stockholm NZC Climate City Contract).\\n\\nThe document also mentions that the BECCS Stockholm project has the potential to remove around 800,000 tons of CO2 annually and is an important early adopter that has the potential to lead many other CCS projects to follow. Additionally, the financing of a large-scale BECCS plant will likely rely on three sources: EU, national government, and the sale of negative emission certificates on a voluntary carbon market (source: Stockholm NZC Climate City Contract).\\n\\nIn summary, the Climate City Contract for Stockholm includes detailed information about the development and implementation of Bio Energy Carbon Capture and Storage (BECCS) as a key technique for achieving negative emissions and addressing climate goals.\\n\\nReference:\\n- Stockholm NZC Climate City Contract'),\n",
       "  HumanMessage(content=\"Is there any mention of 'carbon capture and storage' in this climate city contract?\"),\n",
       "  AIMessage(content='Yes, the Climate City Contract for Stockholm does mention \"Bio Energy Carbon Capture and Storage (BECCS)\" as a technique for permanently removing biogenic CO2 from the atmosphere. The document provides detailed information about the development and implementation of BECCS as a key technique for achieving negative emissions and addressing climate goals. Stockholm\\'s district energy provider, Stockholm Exergi, is developing a large-scale BECCS project to create a world-class, full-scale BECCS facility at Stockholm Exergi’s existing heat and power biomass plant (KVV8) in Stockholm. This project aims to capture and permanently store large quantities of biogenic CO2, resulting in carbon removal from the atmosphere and the creation of so-called “negative emissions” (source: Stockholm NZC Climate City Contract).\\n\\nThe document also mentions that the BECCS Stockholm project has the potential to remove around 800,000 tons of CO2 annually and is an important early adopter that has the potential to lead many other CCS projects to follow. Additionally, the financing of a large-scale BECCS plant will likely rely on three sources: EU, national government, and the sale of negative emission certificates on a voluntary carbon market (source: Stockholm NZC Climate City Contract).\\n\\nIn summary, the Climate City Contract for Stockholm includes detailed information about the development and implementation of Bio Energy Carbon Capture and Storage (BECCS) as a key technique for achieving negative emissions and addressing climate goals.\\n\\nReference:\\n- Stockholm NZC Climate City Contract')],\n",
       " 'output': 'Barcelona is a city located in the northeastern part of Spain, specifically in the region of Catalonia. It has an area of 101.7 square kilometers and a population of 1.66 million (as of January 1, 2023), with a population density of 13,327 inhabitants per square kilometer. The city is known for its rich cultural heritage, vibrant architecture, and beautiful coastline along the Mediterranean Sea.\\n\\nReference:\\n- Climate City Contract. City of Barcelona'}"
      ]
     },
     "execution_count": 132,
     "metadata": {},
     "output_type": "execute_result"
    }
   ],
   "source": [
    "response"
   ]
  },
  {
   "cell_type": "markdown",
   "metadata": {},
   "source": [
    "### Functions"
   ]
  },
  {
   "cell_type": "code",
   "execution_count": 33,
   "metadata": {},
   "outputs": [],
   "source": [
    "query = \"Is there any mention of 'carbon capture and storage' in this climate city contract?\""
   ]
  },
  {
   "cell_type": "code",
   "execution_count": 35,
   "metadata": {},
   "outputs": [
    {
     "data": {
      "text/plain": [
       "OrderedDict([('MzU5LUM6XFVzZXJzXElUTFMxMDQ0MTVcRGVza3RvcFxQcm9nZXR0aVxDQ0NcYmFyY2Vsb25hX256Y19jY2Nfb2sucGRm',\n",
       "              {'chunk': 'Climate City Contract. City of Barcelona           164 \\uf0b7 Blue carbon\" programme, promoting marine carbon sinks (Posidonia) on the \\ncoast of Barcelona (Garraf and Maresme). This is the only action programme \\nthat goes well beyond the municipal area. ',\n",
       "               'location': 'C:\\\\Users\\\\ITLS104415\\\\Desktop\\\\Progetti\\\\CCC\\\\barcelona_nzc_ccc_ok.pdf',\n",
       "               'city': 'barcelona',\n",
       "               'score': 0.03306011110544205,\n",
       "               'index': 'climate-city-contracts'}),\n",
       "             ('NzUtQzpcVXNlcnNcSVRMUzEwNDQxNVxEZXNrdG9wXFByb2dldHRpXENDQ1xiYXJjZWxvbmFfbnpjX2NjY19vay5wZGY=',\n",
       "              {'chunk': 'Climate City Contract. City of Barcelona           27 C1 Sustainable, safe and connected mobility shock plan in urban and metropolitan environments, C2 Housing rehabilitation and urban regeneration plan, C6 Sustainable, safe and connected mobility, C7 Deployment and integration of renewable energies, C8 Electricity infrastructures, promotion of smart grids and deployment of flexibility and storage, C9 Renewable hydrogen roadmap and its sectoral integration and C10 Just Transition Strategy.  manage aid to citizens and businesses, related to energy efficiency, the installation of renewables and the deployment of electric vehicles. ',\n",
       "               'location': 'C:\\\\Users\\\\ITLS104415\\\\Desktop\\\\Progetti\\\\CCC\\\\barcelona_nzc_ccc_ok.pdf',\n",
       "               'city': 'barcelona',\n",
       "               'score': 0.03067915514111519,\n",
       "               'index': 'climate-city-contracts'}),\n",
       "             ('MTQ4LUM6XFVzZXJzXElUTFMxMDQ0MTVcRGVza3RvcFxQcm9nZXR0aVxDQ0NcYmFyY2Vsb25hX256Y19jY2Nfb2sucGRm',\n",
       "              {'chunk': \"Climate City Contract. City of Barcelona           62 1. Update the Citizens' Commitment to Sustainability . In 2024, the Citizens' \\nCommitment will be updated and the opportunity will be taken to incorporate \\ncarbon neutrality targets for 2030 in line with the  Mission. Therefore, B+S Network \\norganisations that strengthen their commitment by joining this Alliance will directly \\ncommit to reducing greenhouse gas emissions. In addition, the renewal of this \\ncommitment is intended to refocus the way of working with t he member \\norganisations, through the proposal to carry out collaborative projects (or mini -\\nmissions).  \\n2. \",\n",
       "               'location': 'C:\\\\Users\\\\ITLS104415\\\\Desktop\\\\Progetti\\\\CCC\\\\barcelona_nzc_ccc_ok.pdf',\n",
       "               'city': 'barcelona',\n",
       "               'score': 0.03057890012860298,\n",
       "               'index': 'climate-city-contracts'}),\n",
       "             ('MTkwLUM6XFVzZXJzXElUTFMxMDQ0MTVcRGVza3RvcFxQcm9nZXR0aVxDQ0NcYmFyY2Vsb25hX256Y19jY2Nfb2sucGRm',\n",
       "              {'chunk': 'Climate City Contract. City of Barcelona           81 8.  Building and heating innovation programme 9. Energy efficiency programme in the use of buildings 4.5, 4.6, 4.7, 4.9  4.1, 4.2, 4.3, 4.4, 4.8 actions referring to municipal buildings will be included in the Programme for a Carbon Neutral City Council.  Ongoing projects. ',\n",
       "               'location': 'C:\\\\Users\\\\ITLS104415\\\\Desktop\\\\Progetti\\\\CCC\\\\barcelona_nzc_ccc_ok.pdf',\n",
       "               'city': 'barcelona',\n",
       "               'score': 0.02703196369111538,\n",
       "               'index': 'climate-city-contracts'}),\n",
       "             ('MjQyLUM6XFVzZXJzXElUTFMxMDQ0MTVcRGVza3RvcFxQcm9nZXR0aVxDQ0NcYmFyY2Vsb25hX256Y19jY2Nfb2sucGRm',\n",
       "              {'chunk': \"Climate City Contract. City of Barcelona           106 Impacts and costs Renewable energy generated (if applicable)  Not applicable Energy removed/replaced, volume or fuel type  Pending Estimated GHG emission reductions (total) A specific calculation of the potential emission reduction of this programme is not yet available. For the building sector programmes as a whole, the Mission's target implies a 76% reduction in emissions (584 thousand MT) compared to the BAU 2030 scenario. The buildings sector's target is a reduction of 76%.  \",\n",
       "               'location': 'C:\\\\Users\\\\ITLS104415\\\\Desktop\\\\Progetti\\\\CCC\\\\barcelona_nzc_ccc_ok.pdf',\n",
       "               'city': 'barcelona',\n",
       "               'score': 0.026553280651569366,\n",
       "               'index': 'climate-city-contracts'}),\n",
       "             ('MTA2LUM6XFVzZXJzXElUTFMxMDQ0MTVcRGVza3RvcFxQcm9nZXR0aVxDQ0NcYmFyY2Vsb25hX256Y19jY2Nfb2sucGRm',\n",
       "              {'chunk': 'Climate City Contract. City of Barcelona           41 Biodiesel will only be used for those vehicles without an operational alternative (from \\n39% to 7%). This means less noise, less air pollution and, logically, less CO2 \\nemissions.  \\n\"This is not a drill\" is the slogan of the Declaration of Climate Emergency (2020 ), \\napproved by Barcelona City Council on 15 January 2020. This institutional declaration \\nis accompanied by a package of more than one hundred proposals with the aim of \\nreducing greenhouse gas emissions by 50% in 10 years compared to 1992, which \\nwould mean,  in absolute figures, a reduction of 2 million tonnes of CO2. ',\n",
       "               'location': 'C:\\\\Users\\\\ITLS104415\\\\Desktop\\\\Progetti\\\\CCC\\\\barcelona_nzc_ccc_ok.pdf',\n",
       "               'city': 'barcelona',\n",
       "               'score': 0.02639751508831978,\n",
       "               'index': 'climate-city-contracts'}),\n",
       "             ('MTY5LUM6XFVzZXJzXElUTFMxMDQ0MTVcRGVza3RvcFxQcm9nZXR0aVxDQ0NcYmFyY2Vsb25hX256Y19jY2Nfb2sucGRm',\n",
       "              {'chunk': 'Climate City Contract. City of Barcelona           71 Buildings and Heating Building renovations 7. Energy rehabilitation programme for buildings   19. Climate justice \\nand social inclusion \\nprogramme  \\n20. Climate Neutral \\nEconomic  \\nOpportunities and \\nAdaptations \\nProgramme  \\n21. Education, \\nculture and \\nparticipation \\nprogramme  \\n23. Carbon Neutral \\nCity Council \\nProgramme  Capacity and capacity building Commitment and participation Culture Strategies for Local development Governance and politics Social innovation Business models Financial resources Regulation Technology Changes in practices:  Development and approval of a 2030 plan for the renovation and energy efficiency of buildings, underpinned by regulatory changes (EU, national) to enable better pro-climate regulation of this sector. Incorporation of a substantial budget line to start the implementation of the plan.  ',\n",
       "               'location': 'C:\\\\Users\\\\ITLS104415\\\\Desktop\\\\Progetti\\\\CCC\\\\barcelona_nzc_ccc_ok.pdf',\n",
       "               'city': 'barcelona',\n",
       "               'score': 0.02589375153183937,\n",
       "               'index': 'climate-city-contracts'}),\n",
       "             ('MzkyLUM6XFVzZXJzXElUTFMxMDQ0MTVcRGVza3RvcFxQcm9nZXR0aVxDQ0NcYmFyY2Vsb25hX256Y19jY2Nfb2sucGRm',\n",
       "              {'chunk': 'Climate City Contract. City of Barcelona           180 quality of life, combating climate emergency and fostering urban resilience. The measure organises the instruments available to Barcelona City Council to accelerate this change, innovate services, processes and governance, and accelerate innovation in the city and with the city.   Promotion (Barcelona Activa) - Town Planning Area - Area of Democratic Innovation - Innovation and Digital Transition Area - Social Innovation Area - Mobility Area - Fira de Barcelona - Administrative Contracting Coordination Services Directorate that accelerates projects to achieve the green and digital transition. It includes plans and projects focused on emissions reduction, urban resilience and the fight against climate change. ',\n",
       "               'location': 'C:\\\\Users\\\\ITLS104415\\\\Desktop\\\\Progetti\\\\CCC\\\\barcelona_nzc_ccc_ok.pdf',\n",
       "               'city': 'barcelona',\n",
       "               'score': 0.024198167026042938,\n",
       "               'index': 'climate-city-contracts'}),\n",
       "             ('MTUxLUM6XFVzZXJzXElUTFMxMDQ0MTVcRGVza3RvcFxQcm9nZXR0aVxDQ0NcYmFyY2Vsb25hX256Y19jY2Nfb2sucGRm',\n",
       "              {'chunk': 'Climate City Contract. City of Barcelona           63 municipal budget. In the next edition, planned for the current term of office (2023 -\\n2027), it is planned to focus on t he theme of climate emergency, reinforcing both \\nissues of emissions reduction and adaptation to climate change and improving \\nurban resilience. Priority will be given to actions to improve the sustainability of \\nmobility through traffic calming, improving ac cessibility and promoting mobility on \\nfoot and by bicycle; actions to improve waste prevention and management; \\nincreasing the area and quality of green spaces in the city; actions to improve the \\nresilience of the most vulnerable neighbourhoods and populati ons, etc.  \\n6. ',\n",
       "               'location': 'C:\\\\Users\\\\ITLS104415\\\\Desktop\\\\Progetti\\\\CCC\\\\barcelona_nzc_ccc_ok.pdf',\n",
       "               'city': 'barcelona',\n",
       "               'score': 0.024099577218294144,\n",
       "               'index': 'climate-city-contracts'}),\n",
       "             ('MTY1LUM6XFVzZXJzXElUTFMxMDQ0MTVcRGVza3RvcFxQcm9nZXR0aVxDQ0NcYmFyY2Vsb25hX256Y19jY2Nfb2sucGRm',\n",
       "              {'chunk': 'Climate City Contract. City of Barcelona           69 programme  is achieved. vehicles Impacts: Increased share of zero-emission buses is achieved. noise and \\nvibration)  \\nReduction of \\noperational \\ncosts (energy \\nand \\nmaintenance)  Optimisation of freight transport logistics 4. Urban freight distribution programme 18. Climate-smart urban design programme 20. Climate Neutral Economic Opportunities and Adaptation Programme 22. Knowledge and innovation development programme Capacity and development of capacities Culture Governance and politics Business models Financial resources Regulation  Technology Changes in practices: Extending the implementation of last mile distribution micro-platforms. Improved monitoring and control of indiscipline. ',\n",
       "               'location': 'C:\\\\Users\\\\ITLS104415\\\\Desktop\\\\Progetti\\\\CCC\\\\barcelona_nzc_ccc_ok.pdf',\n",
       "               'city': 'barcelona',\n",
       "               'score': 0.022689076140522957,\n",
       "               'index': 'climate-city-contracts'}),\n",
       "             ('MzcyLUM6XFVzZXJzXElUTFMxMDQ0MTVcRGVza3RvcFxQcm9nZXR0aVxDQ0NcYmFyY2Vsb25hX256Y19jY2Nfb2sucGRm',\n",
       "              {'chunk': 'Climate City Contract. City of Barcelona           170 resources by recovering materials from recycling.  Reduction of waste management needs: transport, space occupation, treatment energy and incineration emissions.  ',\n",
       "               'location': 'C:\\\\Users\\\\ITLS104415\\\\Desktop\\\\Progetti\\\\CCC\\\\barcelona_nzc_ccc_ok.pdf',\n",
       "               'city': 'barcelona',\n",
       "               'score': 0.022670313715934753,\n",
       "               'index': 'climate-city-contracts'}),\n",
       "             ('MTc5LUM6XFVzZXJzXElUTFMxMDQ0MTVcRGVza3RvcFxQcm9nZXR0aVxDQ0NcYmFyY2Vsb25hX256Y19jY2Nfb2sucGRm',\n",
       "              {'chunk': 'Climate City Contract. City of Barcelona           76 buildings. Promoting research and development of technologies to increase the efficiency of energy consumption in buildings. ',\n",
       "               'location': 'C:\\\\Users\\\\ITLS104415\\\\Desktop\\\\Progetti\\\\CCC\\\\barcelona_nzc_ccc_ok.pdf',\n",
       "               'city': 'barcelona',\n",
       "               'score': 0.022281227633357048,\n",
       "               'index': 'climate-city-contracts'}),\n",
       "             ('MzY2LUM6XFVzZXJzXElUTFMxMDQ0MTVcRGVza3RvcFxQcm9nZXR0aVxDQ0NcYmFyY2Vsb25hX256Y19jY2Nfb2sucGRm',\n",
       "              {'chunk': 'Climate City Contract. City of Barcelona           167 the buildings and heating sector MT CO2-eq) Increased comfort for the inhabitants of the rehabilitated buildings.  Reduction of health problems caused by poor energy conditions in dwellings (fungus due to damp, colds and pneumonia in winter, heat stroke in summer, poor sleep quality due to high temperatures in summer).  ',\n",
       "               'location': 'C:\\\\Users\\\\ITLS104415\\\\Desktop\\\\Progetti\\\\CCC\\\\barcelona_nzc_ccc_ok.pdf',\n",
       "               'city': 'barcelona',\n",
       "               'score': 0.022051282227039337,\n",
       "               'index': 'climate-city-contracts'}),\n",
       "             ('MzgyLUM6XFVzZXJzXElUTFMxMDQ0MTVcRGVza3RvcFxQcm9nZXR0aVxDQ0NcYmFyY2Vsb25hX256Y19jY2Nfb2sucGRm',\n",
       "              {'chunk': \"Climate City Contract. City of Barcelona           175 modernisation to achieve climate neutrality e 23 people trained on climate change (out of total municipal staff) Programme 24. Metropolitan vision and multilevel government Reduction of local metropolitan greenhouse gas emissions (Scope 1 and 2) Programme 24 79 Greenhouse gas emissions (million metric tons CO2-eq) 13,052 n.d n.d 10,771 \\nProgramm e 25. City -to-city climate cooperation  Promoting climate-smart international development cooperation  Consolidate the contribution of 0.7% of Barcelona City Council's own resources to international development cooperation projects. \",\n",
       "               'location': 'C:\\\\Users\\\\ITLS104415\\\\Desktop\\\\Progetti\\\\CCC\\\\barcelona_nzc_ccc_ok.pdf',\n",
       "               'city': 'barcelona',\n",
       "               'score': 0.021715624257922173,\n",
       "               'index': 'climate-city-contracts'}),\n",
       "             ('MTYyLUM6XFVzZXJzXElUTFMxMDQ0MTVcRGVza3RvcFxQcm9nZXR0aVxDQ0NcYmFyY2Vsb25hX256Y19jY2Nfb2sucGRm',\n",
       "              {'chunk': 'Climate City Contract. City of Barcelona           68 of eco-mobility. Impacts: Increased share of eco-mobility. ',\n",
       "               'location': 'C:\\\\Users\\\\ITLS104415\\\\Desktop\\\\Progetti\\\\CCC\\\\barcelona_nzc_ccc_ok.pdf',\n",
       "               'city': 'barcelona',\n",
       "               'score': 0.019568150863051414,\n",
       "               'index': 'climate-city-contracts'}),\n",
       "             ('MTg1LUM6XFVzZXJzXElUTFMxMDQ0MTVcRGVza3RvcFxQcm9nZXR0aVxDQ0NcYmFyY2Vsb25hX256Y19jY2Nfb2sucGRm',\n",
       "              {'chunk': 'Climate City Contract. City of Barcelona           79 22. Knowledge and innovation development programme Technology   Others [1] 15. Water cycle management programme with a climate perspective 17. Urban green infrastructure programme 18. Climate -smart \\nurban design \\nprogramme  \\n21. Education, \\nculture and \\nparticipation \\nprogramme  \\n22. Knowledge and \\ninnovation \\ndevelopment \\nprogramme  \\n23. Municipal \\nmodernisation \\nprogramme for \\nclimate neutrality  Capacity and development of capacities Commitment and participation Culture Social innovation Financial resources Technology Changes in practices: Progressive expansion of urban green infrastructure and increasing citizen participation in its care. Moderate but steady reduction in water consumption. ',\n",
       "               'location': 'C:\\\\Users\\\\ITLS104415\\\\Desktop\\\\Progetti\\\\CCC\\\\barcelona_nzc_ccc_ok.pdf',\n",
       "               'city': 'barcelona',\n",
       "               'score': 0.019335512071847916,\n",
       "               'index': 'climate-city-contracts'}),\n",
       "             ('MjQ2LUM6XFVzZXJzXElUTFMxMDQ0MTVcRGVza3RvcFxQcm9nZXR0aVxDQ0NcYmFyY2Vsb25hX256Y19jY2Nfb2sucGRm',\n",
       "              {'chunk': \"Climate City Contract. City of Barcelona           108 Station and its surroundings. The initial project, with a \\nplanned investment of 21 million euros, proposes the \\ndeployment of a centralised air -conditioning network \\nwith maximum energy efficiency, t aking advantage of \\nthe phreatic water of the Besós River and solar energy.  \\nThe new network, with an agreement with ADIF, will \\ncover the Sagrera intermodal station, the entire Sagrera \\ntertiary area and also the Prim urban development \\nsector. The aim is to p rovide energy coverage for a total \\nof 920,000 m2 and, in the future, in the new urban \\nfabric with neighbourhood and productive uses planned \\nfor the site of the former Mercedes -Benz factory.  \\nThe new plant will reduce annual CO2 emissions by the \\nequivalent o f taking 19,160 vehicles off the road and \\nsave 53,000 MWh/year in electricity consumption. Once \\nthe initial project has been configured, the dossier will \\nbe prepared for this heating and cooling network to be \\nimplemented, operated and maintained in a publi c-\\nprivate partnership format.  \\nThe urban heating and cooling  networks are part of the \\ncity's commitment to energy efficiency. They are \\nefficient systems for producing heat and cold using \\nrenewable or residual resources that represent 30% \\nenergy savings comp ared to conventional individual \\nsystems such as boilers or air conditioners. \",\n",
       "               'location': 'C:\\\\Users\\\\ITLS104415\\\\Desktop\\\\Progetti\\\\CCC\\\\barcelona_nzc_ccc_ok.pdf',\n",
       "               'city': 'barcelona',\n",
       "               'score': 0.019038375467061996,\n",
       "               'index': 'climate-city-contracts'}),\n",
       "             ('NDgtQzpcVXNlcnNcSVRMUzEwNDQxNVxEZXNrdG9wXFByb2dldHRpXENDQ1xiYXJjZWxvbmFfbnpjX2NjY19vay5wZGY=',\n",
       "              {'chunk': 'Climate City Contract. City of Barcelona           12  \\nSource: Climate Emergency Declaration Assessment  (2023) . \\n\\uf0b7 Finally, with regard to water, it has been possible to consolidate guidelines for \\nefficiency and savings in water co nsumption that are very use ful -although perhaps \\nnot sufficient - for dealing with situations of structural drought, as well as for \\nreducing emissions linked to water treatment and management.  \\n \\n \\n',\n",
       "               'location': 'C:\\\\Users\\\\ITLS104415\\\\Desktop\\\\Progetti\\\\CCC\\\\barcelona_nzc_ccc_ok.pdf',\n",
       "               'city': 'barcelona',\n",
       "               'score': 0.018987342715263367,\n",
       "               'index': 'climate-city-contracts'}),\n",
       "             ('MTQwLUM6XFVzZXJzXElUTFMxMDQ0MTVcRGVza3RvcFxQcm9nZXR0aVxDQ0NcYmFyY2Vsb25hX256Y19jY2Nfb2sucGRm',\n",
       "              {'chunk': 'Climate City Contract. City of Barcelona           58 \\uf0b7 The impossibility (more legal than technological) of measuring emissions at the \\nindividual level , which makes it difficult to control and punish freeriders and, \\nconsequently,  to build social trust around the collective project of climate \\nneutrality.  \\n\\uf0b7 The decline of social movements potentially more willing to fight for \\ndecarbonisation, such as the environmental or neighbourhood movements. \\n',\n",
       "               'location': 'C:\\\\Users\\\\ITLS104415\\\\Desktop\\\\Progetti\\\\CCC\\\\barcelona_nzc_ccc_ok.pdf',\n",
       "               'city': 'barcelona',\n",
       "               'score': 0.018392417579889297,\n",
       "               'index': 'climate-city-contracts'}),\n",
       "             ('MzIwLUM6XFVzZXJzXElUTFMxMDQ0MTVcRGVza3RvcFxQcm9nZXR0aVxDQ0NcYmFyY2Vsb25hX256Y19jY2Nfb2sucGRm',\n",
       "              {'chunk': 'Climate City Contract. City of Barcelona           145 applicable)  Energy removed/replaced, volume or fuel type  Not applicable Estimated GHG emission reductions (total)  Not applicable Total costs and costs per unit of CO2eq  Pending  Action plan Name of the action  21. Education, Culture, Communication and Participation \\nProgramme  Type of action Cross-cutting action programme in the fields of education, culture and participation. ',\n",
       "               'location': 'C:\\\\Users\\\\ITLS104415\\\\Desktop\\\\Progetti\\\\CCC\\\\barcelona_nzc_ccc_ok.pdf',\n",
       "               'city': 'barcelona',\n",
       "               'score': 0.01819685660302639,\n",
       "               'index': 'climate-city-contracts'})])"
      ]
     },
     "execution_count": 35,
     "metadata": {},
     "output_type": "execute_result"
    }
   ],
   "source": [
    "# GET_SEARCH_RESULTS\n",
    "\n",
    "# Define the request headers\n",
    "headers = {\n",
    "    \"Content-Type\": \"application/json\",\n",
    "    \"api-key\": search_api_key  # Replace with your actual API key\n",
    "}\n",
    "\n",
    "params = {'api-version': search_api_version}\n",
    "\n",
    "agg_search_results = dict()\n",
    "\n",
    "# Define the request payload\n",
    "search_payload = {\n",
    "    \"search\": query,\n",
    "    \"select\": \"id, doc_path, city, chunk\",\n",
    "    \"filter\": filters,\n",
    "    \"vectorQueries\": [{\"kind\": \"text\", \"k\": k, \"fields\": \"embedding\", \"text\": query}],\n",
    "    \"count\": \"true\",\n",
    "    \"top\": k\n",
    "}\n",
    "\n",
    "response = requests.post(search_endpoint + \"indexes/\" + index_name + \"/docs/search\",\n",
    "                        data=json.dumps(search_payload), headers=headers, params=params)\n",
    "\n",
    "search_results = response.json()\n",
    "agg_search_results[index_name] = search_results\n",
    "\n",
    "reranker_threshold = 0\n",
    "\n",
    "content = dict()\n",
    "ordered_content = OrderedDict()\n",
    "\n",
    "for index, search_results in agg_search_results.items():\n",
    "    for result in search_results['value']:\n",
    "        # Show results that are at least N% of the max possible score=4\n",
    "        if result['@search.score'] > reranker_threshold:\n",
    "            content[result['id']] = {\n",
    "                \"chunk\": result['chunk'],\n",
    "                \"location\": result['doc_path'],\n",
    "                \"city\": result['city'],\n",
    "                \"score\": result['@search.score'],\n",
    "                \"index\": index\n",
    "            }\n",
    "\n",
    "topk = k\n",
    "\n",
    "count = 0  # To keep track of the number of results added\n",
    "for id in sorted(content, key=lambda x: content[x][\"score\"], reverse=True):\n",
    "    ordered_content[id] = content[id]\n",
    "    count += 1\n",
    "    if count >= topk:  # Stop after adding topK results\n",
    "        break\n",
    "\n",
    "ordered_content   "
   ]
  },
  {
   "cell_type": "code",
   "execution_count": 38,
   "metadata": {},
   "outputs": [],
   "source": [
    "class CustomAzureSearchRetriever(BaseRetriever):\n",
    "\n",
    "    indexes: List\n",
    "    filters: str\n",
    "    topK: int\n",
    "    reranker_threshold: int\n",
    "    sas_token: str = \"\"\n",
    "\n",
    "    def _get_relevant_documents(\n",
    "        self, query: str, *, run_manager: CallbackManagerForRetrieverRun\n",
    "    ) -> List[Document]:\n",
    "\n",
    "        ordered_results = get_search_results(\n",
    "            query, indexes=self.indexes, filters=self.filters, k=self.topK, reranker_threshold=self.reranker_threshold, sas_token=self.sas_token)\n",
    "\n",
    "        top_docs = []\n",
    "        for key, value in ordered_results.items():\n",
    "            location = value[\"location\"] if value[\"location\"] is not None else \"\"\n",
    "            try:\n",
    "                top_docs.append(Document(page_content=value[\"chunk\"], metadata={\n",
    "                    \"source\": location, \"score\": value[\"score\"]}))\n",
    "            except:\n",
    "                print(\"An exception occurred\")\n",
    " \n",
    "        # print(top_docs) \n",
    "\n",
    "        return top_docs"
   ]
  },
  {
   "cell_type": "code",
   "execution_count": 45,
   "metadata": {},
   "outputs": [
    {
     "data": {
      "text/plain": [
       "[Document(metadata={'source': 'C:\\\\Users\\\\ITLS104415\\\\Desktop\\\\Progetti\\\\CCC\\\\barcelona_nzc_ccc_ok.pdf', 'score': 0.03306011110544205}, page_content='Climate City Contract. City of Barcelona           164 \\uf0b7 Blue carbon\" programme, promoting marine carbon sinks (Posidonia) on the \\ncoast of Barcelona (Garraf and Maresme). This is the only action programme \\nthat goes well beyond the municipal area. '),\n",
       " Document(metadata={'source': 'C:\\\\Users\\\\ITLS104415\\\\Desktop\\\\Progetti\\\\CCC\\\\barcelona_nzc_ccc_ok.pdf', 'score': 0.03067915514111519}, page_content='Climate City Contract. City of Barcelona           27 C1 Sustainable, safe and connected mobility shock plan in urban and metropolitan environments, C2 Housing rehabilitation and urban regeneration plan, C6 Sustainable, safe and connected mobility, C7 Deployment and integration of renewable energies, C8 Electricity infrastructures, promotion of smart grids and deployment of flexibility and storage, C9 Renewable hydrogen roadmap and its sectoral integration and C10 Just Transition Strategy.  manage aid to citizens and businesses, related to energy efficiency, the installation of renewables and the deployment of electric vehicles. '),\n",
       " Document(metadata={'source': 'C:\\\\Users\\\\ITLS104415\\\\Desktop\\\\Progetti\\\\CCC\\\\barcelona_nzc_ccc_ok.pdf', 'score': 0.03057890012860298}, page_content=\"Climate City Contract. City of Barcelona           62 1. Update the Citizens' Commitment to Sustainability . In 2024, the Citizens' \\nCommitment will be updated and the opportunity will be taken to incorporate \\ncarbon neutrality targets for 2030 in line with the  Mission. Therefore, B+S Network \\norganisations that strengthen their commitment by joining this Alliance will directly \\ncommit to reducing greenhouse gas emissions. In addition, the renewal of this \\ncommitment is intended to refocus the way of working with t he member \\norganisations, through the proposal to carry out collaborative projects (or mini -\\nmissions).  \\n2. \"),\n",
       " Document(metadata={'source': 'C:\\\\Users\\\\ITLS104415\\\\Desktop\\\\Progetti\\\\CCC\\\\barcelona_nzc_ccc_ok.pdf', 'score': 0.02703196369111538}, page_content='Climate City Contract. City of Barcelona           81 8.  Building and heating innovation programme 9. Energy efficiency programme in the use of buildings 4.5, 4.6, 4.7, 4.9  4.1, 4.2, 4.3, 4.4, 4.8 actions referring to municipal buildings will be included in the Programme for a Carbon Neutral City Council.  Ongoing projects. '),\n",
       " Document(metadata={'source': 'C:\\\\Users\\\\ITLS104415\\\\Desktop\\\\Progetti\\\\CCC\\\\barcelona_nzc_ccc_ok.pdf', 'score': 0.026553280651569366}, page_content=\"Climate City Contract. City of Barcelona           106 Impacts and costs Renewable energy generated (if applicable)  Not applicable Energy removed/replaced, volume or fuel type  Pending Estimated GHG emission reductions (total) A specific calculation of the potential emission reduction of this programme is not yet available. For the building sector programmes as a whole, the Mission's target implies a 76% reduction in emissions (584 thousand MT) compared to the BAU 2030 scenario. The buildings sector's target is a reduction of 76%.  \"),\n",
       " Document(metadata={'source': 'C:\\\\Users\\\\ITLS104415\\\\Desktop\\\\Progetti\\\\CCC\\\\barcelona_nzc_ccc_ok.pdf', 'score': 0.02639751508831978}, page_content='Climate City Contract. City of Barcelona           41 Biodiesel will only be used for those vehicles without an operational alternative (from \\n39% to 7%). This means less noise, less air pollution and, logically, less CO2 \\nemissions.  \\n\"This is not a drill\" is the slogan of the Declaration of Climate Emergency (2020 ), \\napproved by Barcelona City Council on 15 January 2020. This institutional declaration \\nis accompanied by a package of more than one hundred proposals with the aim of \\nreducing greenhouse gas emissions by 50% in 10 years compared to 1992, which \\nwould mean,  in absolute figures, a reduction of 2 million tonnes of CO2. '),\n",
       " Document(metadata={'source': 'C:\\\\Users\\\\ITLS104415\\\\Desktop\\\\Progetti\\\\CCC\\\\barcelona_nzc_ccc_ok.pdf', 'score': 0.02589375153183937}, page_content='Climate City Contract. City of Barcelona           71 Buildings and Heating Building renovations 7. Energy rehabilitation programme for buildings   19. Climate justice \\nand social inclusion \\nprogramme  \\n20. Climate Neutral \\nEconomic  \\nOpportunities and \\nAdaptations \\nProgramme  \\n21. Education, \\nculture and \\nparticipation \\nprogramme  \\n23. Carbon Neutral \\nCity Council \\nProgramme  Capacity and capacity building Commitment and participation Culture Strategies for Local development Governance and politics Social innovation Business models Financial resources Regulation Technology Changes in practices:  Development and approval of a 2030 plan for the renovation and energy efficiency of buildings, underpinned by regulatory changes (EU, national) to enable better pro-climate regulation of this sector. Incorporation of a substantial budget line to start the implementation of the plan.  '),\n",
       " Document(metadata={'source': 'C:\\\\Users\\\\ITLS104415\\\\Desktop\\\\Progetti\\\\CCC\\\\barcelona_nzc_ccc_ok.pdf', 'score': 0.024198167026042938}, page_content='Climate City Contract. City of Barcelona           180 quality of life, combating climate emergency and fostering urban resilience. The measure organises the instruments available to Barcelona City Council to accelerate this change, innovate services, processes and governance, and accelerate innovation in the city and with the city.   Promotion (Barcelona Activa) - Town Planning Area - Area of Democratic Innovation - Innovation and Digital Transition Area - Social Innovation Area - Mobility Area - Fira de Barcelona - Administrative Contracting Coordination Services Directorate that accelerates projects to achieve the green and digital transition. It includes plans and projects focused on emissions reduction, urban resilience and the fight against climate change. '),\n",
       " Document(metadata={'source': 'C:\\\\Users\\\\ITLS104415\\\\Desktop\\\\Progetti\\\\CCC\\\\barcelona_nzc_ccc_ok.pdf', 'score': 0.024099577218294144}, page_content='Climate City Contract. City of Barcelona           63 municipal budget. In the next edition, planned for the current term of office (2023 -\\n2027), it is planned to focus on t he theme of climate emergency, reinforcing both \\nissues of emissions reduction and adaptation to climate change and improving \\nurban resilience. Priority will be given to actions to improve the sustainability of \\nmobility through traffic calming, improving ac cessibility and promoting mobility on \\nfoot and by bicycle; actions to improve waste prevention and management; \\nincreasing the area and quality of green spaces in the city; actions to improve the \\nresilience of the most vulnerable neighbourhoods and populati ons, etc.  \\n6. '),\n",
       " Document(metadata={'source': 'C:\\\\Users\\\\ITLS104415\\\\Desktop\\\\Progetti\\\\CCC\\\\barcelona_nzc_ccc_ok.pdf', 'score': 0.022689076140522957}, page_content='Climate City Contract. City of Barcelona           69 programme  is achieved. vehicles Impacts: Increased share of zero-emission buses is achieved. noise and \\nvibration)  \\nReduction of \\noperational \\ncosts (energy \\nand \\nmaintenance)  Optimisation of freight transport logistics 4. Urban freight distribution programme 18. Climate-smart urban design programme 20. Climate Neutral Economic Opportunities and Adaptation Programme 22. Knowledge and innovation development programme Capacity and development of capacities Culture Governance and politics Business models Financial resources Regulation  Technology Changes in practices: Extending the implementation of last mile distribution micro-platforms. Improved monitoring and control of indiscipline. '),\n",
       " Document(metadata={'source': 'C:\\\\Users\\\\ITLS104415\\\\Desktop\\\\Progetti\\\\CCC\\\\barcelona_nzc_ccc_ok.pdf', 'score': 0.022670313715934753}, page_content='Climate City Contract. City of Barcelona           170 resources by recovering materials from recycling.  Reduction of waste management needs: transport, space occupation, treatment energy and incineration emissions.  '),\n",
       " Document(metadata={'source': 'C:\\\\Users\\\\ITLS104415\\\\Desktop\\\\Progetti\\\\CCC\\\\barcelona_nzc_ccc_ok.pdf', 'score': 0.022281227633357048}, page_content='Climate City Contract. City of Barcelona           76 buildings. Promoting research and development of technologies to increase the efficiency of energy consumption in buildings. '),\n",
       " Document(metadata={'source': 'C:\\\\Users\\\\ITLS104415\\\\Desktop\\\\Progetti\\\\CCC\\\\barcelona_nzc_ccc_ok.pdf', 'score': 0.022051282227039337}, page_content='Climate City Contract. City of Barcelona           167 the buildings and heating sector MT CO2-eq) Increased comfort for the inhabitants of the rehabilitated buildings.  Reduction of health problems caused by poor energy conditions in dwellings (fungus due to damp, colds and pneumonia in winter, heat stroke in summer, poor sleep quality due to high temperatures in summer).  '),\n",
       " Document(metadata={'source': 'C:\\\\Users\\\\ITLS104415\\\\Desktop\\\\Progetti\\\\CCC\\\\barcelona_nzc_ccc_ok.pdf', 'score': 0.021715624257922173}, page_content=\"Climate City Contract. City of Barcelona           175 modernisation to achieve climate neutrality e 23 people trained on climate change (out of total municipal staff) Programme 24. Metropolitan vision and multilevel government Reduction of local metropolitan greenhouse gas emissions (Scope 1 and 2) Programme 24 79 Greenhouse gas emissions (million metric tons CO2-eq) 13,052 n.d n.d 10,771 \\nProgramm e 25. City -to-city climate cooperation  Promoting climate-smart international development cooperation  Consolidate the contribution of 0.7% of Barcelona City Council's own resources to international development cooperation projects. \"),\n",
       " Document(metadata={'source': 'C:\\\\Users\\\\ITLS104415\\\\Desktop\\\\Progetti\\\\CCC\\\\barcelona_nzc_ccc_ok.pdf', 'score': 0.019568150863051414}, page_content='Climate City Contract. City of Barcelona           68 of eco-mobility. Impacts: Increased share of eco-mobility. '),\n",
       " Document(metadata={'source': 'C:\\\\Users\\\\ITLS104415\\\\Desktop\\\\Progetti\\\\CCC\\\\barcelona_nzc_ccc_ok.pdf', 'score': 0.019335512071847916}, page_content='Climate City Contract. City of Barcelona           79 22. Knowledge and innovation development programme Technology   Others [1] 15. Water cycle management programme with a climate perspective 17. Urban green infrastructure programme 18. Climate -smart \\nurban design \\nprogramme  \\n21. Education, \\nculture and \\nparticipation \\nprogramme  \\n22. Knowledge and \\ninnovation \\ndevelopment \\nprogramme  \\n23. Municipal \\nmodernisation \\nprogramme for \\nclimate neutrality  Capacity and development of capacities Commitment and participation Culture Social innovation Financial resources Technology Changes in practices: Progressive expansion of urban green infrastructure and increasing citizen participation in its care. Moderate but steady reduction in water consumption. '),\n",
       " Document(metadata={'source': 'C:\\\\Users\\\\ITLS104415\\\\Desktop\\\\Progetti\\\\CCC\\\\barcelona_nzc_ccc_ok.pdf', 'score': 0.019038375467061996}, page_content=\"Climate City Contract. City of Barcelona           108 Station and its surroundings. The initial project, with a \\nplanned investment of 21 million euros, proposes the \\ndeployment of a centralised air -conditioning network \\nwith maximum energy efficiency, t aking advantage of \\nthe phreatic water of the Besós River and solar energy.  \\nThe new network, with an agreement with ADIF, will \\ncover the Sagrera intermodal station, the entire Sagrera \\ntertiary area and also the Prim urban development \\nsector. The aim is to p rovide energy coverage for a total \\nof 920,000 m2 and, in the future, in the new urban \\nfabric with neighbourhood and productive uses planned \\nfor the site of the former Mercedes -Benz factory.  \\nThe new plant will reduce annual CO2 emissions by the \\nequivalent o f taking 19,160 vehicles off the road and \\nsave 53,000 MWh/year in electricity consumption. Once \\nthe initial project has been configured, the dossier will \\nbe prepared for this heating and cooling network to be \\nimplemented, operated and maintained in a publi c-\\nprivate partnership format.  \\nThe urban heating and cooling  networks are part of the \\ncity's commitment to energy efficiency. They are \\nefficient systems for producing heat and cold using \\nrenewable or residual resources that represent 30% \\nenergy savings comp ared to conventional individual \\nsystems such as boilers or air conditioners. \"),\n",
       " Document(metadata={'source': 'C:\\\\Users\\\\ITLS104415\\\\Desktop\\\\Progetti\\\\CCC\\\\barcelona_nzc_ccc_ok.pdf', 'score': 0.018987342715263367}, page_content='Climate City Contract. City of Barcelona           12  \\nSource: Climate Emergency Declaration Assessment  (2023) . \\n\\uf0b7 Finally, with regard to water, it has been possible to consolidate guidelines for \\nefficiency and savings in water co nsumption that are very use ful -although perhaps \\nnot sufficient - for dealing with situations of structural drought, as well as for \\nreducing emissions linked to water treatment and management.  \\n \\n \\n'),\n",
       " Document(metadata={'source': 'C:\\\\Users\\\\ITLS104415\\\\Desktop\\\\Progetti\\\\CCC\\\\barcelona_nzc_ccc_ok.pdf', 'score': 0.018392417579889297}, page_content='Climate City Contract. City of Barcelona           58 \\uf0b7 The impossibility (more legal than technological) of measuring emissions at the \\nindividual level , which makes it difficult to control and punish freeriders and, \\nconsequently,  to build social trust around the collective project of climate \\nneutrality.  \\n\\uf0b7 The decline of social movements potentially more willing to fight for \\ndecarbonisation, such as the environmental or neighbourhood movements. \\n'),\n",
       " Document(metadata={'source': 'C:\\\\Users\\\\ITLS104415\\\\Desktop\\\\Progetti\\\\CCC\\\\barcelona_nzc_ccc_ok.pdf', 'score': 0.01819685660302639}, page_content='Climate City Contract. City of Barcelona           145 applicable)  Energy removed/replaced, volume or fuel type  Not applicable Estimated GHG emission reductions (total)  Not applicable Total costs and costs per unit of CO2eq  Pending  Action plan Name of the action  21. Education, Culture, Communication and Participation \\nProgramme  Type of action Cross-cutting action programme in the fields of education, culture and participation. ')]"
      ]
     },
     "execution_count": 45,
     "metadata": {},
     "output_type": "execute_result"
    }
   ],
   "source": [
    "retriever = CustomAzureSearchRetriever(indexes=indexes, filters=filters, topK=k, reranker_threshold=0,\n",
    "                                               sas_token=\"\")\n",
    "tool_results = retriever.invoke(input=query)\n",
    "tool_results"
   ]
  },
  {
   "cell_type": "code",
   "execution_count": 48,
   "metadata": {},
   "outputs": [
    {
     "data": {
      "text/plain": [
       "GetDocSearchResults_Tool(indexes=['climate-city-contracts'], filters=\"city eq 'barcelona'\", reranker_th=0, sas_token='na')"
      ]
     },
     "execution_count": 48,
     "metadata": {},
     "output_type": "execute_result"
    }
   ],
   "source": [
    "output = GetDocSearchResults_Tool(indexes=indexes, filters=fltrs, k=k, reranker_th=rth, sas_token='na')\n",
    "output"
   ]
  },
  {
   "cell_type": "code",
   "execution_count": 49,
   "metadata": {},
   "outputs": [],
   "source": [
    "tools = [GetDocSearchResults_Tool(\n",
    "indexes=indexes, filters=fltrs, k=k, reranker_th=rth, sas_token='na')]\n",
    "\n",
    "agent = create_openai_tools_agent(llm, tools, prompt)\n",
    "\n",
    "agent_executor = AgentExecutor(\n",
    "agent=agent, tools=tools, handle_parsing_errors=True, verbose=False)\n",
    "\n",
    "with_message_history = RunnableWithMessageHistory(\n",
    "agent_executor,\n",
    "get_session_history,\n",
    "input_messages_key=\"question\",\n",
    "history_messages_key=\"history\"\n",
    ")\n",
    "\n",
    "session_id = 123\n",
    "\n",
    "response = with_message_history.invoke(\n",
    "    {\"question\": question},\n",
    "    config={\"configurable\": {\"session_id\": session_id}}\n",
    ")"
   ]
  },
  {
   "cell_type": "code",
   "execution_count": 50,
   "metadata": {},
   "outputs": [
    {
     "data": {
      "text/plain": [
       "{'question': \"Is there any mention of 'carbon capture and storage' in this climate city contract?\",\n",
       " 'history': [HumanMessage(content=\"Is there any mention of 'carbon capture and storage' in this climate city contract?\"),\n",
       "  AIMessage(content='Yes, the Climate City Contract for Stockholm includes a mention of \"Bio Energy Carbon Capture and Storage (BECCS)\" as a technique for permanently removing biogenic CO2 from the atmosphere. The document states that Stockholm\\'s district energy provider, Stockholm Exergi, is developing a large-scale BECCS project to create a world-class, full-scale BECCS facility at Stockholm Exergi’s existing heat and power biomass plant (KVV8) in Stockholm. This project aims to capture and permanently store large quantities of biogenic CO2, resulting in carbon removal from the atmosphere and the creation of \"negative emissions.\" The document also highlights that the BECCS Stockholm project has the potential to lead many other CCS projects to follow and contribute to the climate goal defined in the city\\'s climate contract.\\n\\nSource:\\n- Document: Stockholm Climate City Contract (Extracted Content)'),\n",
       "  HumanMessage(content=\"Is there any mention of 'carbon capture and storage' in this climate city contract?\"),\n",
       "  AIMessage(content='I couldn\\'t find any mention of \"carbon capture and storage\" in the Climate City Contract for Stockholm. However, I did find information about the use of \"Bio Energy Carbon Capture and Storage (BECCS)\" in the Stockholm Climate City Contract. This technique involves capturing and permanently storing large quantities of biogenic CO2, resulting in carbon removal from the atmosphere and the creation of \"negative emissions.\" The document highlights that Stockholm\\'s district energy provider, Stockholm Exergi, is developing a large-scale BECCS project to create a world-class, full-scale BECCS facility at Stockholm Exergi’s existing heat and power biomass plant (KVV8) in Stockholm.\\n\\nSource:\\n- Document: Stockholm Climate City Contract (Extracted Content)'),\n",
       "  HumanMessage(content=\"Is there any mention of 'carbon capture and storage' in this climate city contract?\"),\n",
       "  AIMessage(content='The search did not yield any specific mention of \"carbon capture and storage\" in the Climate City Contract for Barcelona. However, it does mention \"carbon sequestration\" as part of the residual emissions strategy. The document states that carbon sequestration is the third leg of the strategy, but it is currently underdeveloped. There is a working commission on the subject, promoted by the BIT Habitat Foundation, which aims to identify local entities with knowledge and experience in CO2 capture, share knowledge, projects, and initiatives on CO2 capture being carried out in Barcelona, and identify possible alliances between existing projects or programs to promote CO2 capture.\\n\\nSource:\\n- Document: Barcelona Climate City Contract (Extracted Content)'),\n",
       "  HumanMessage(content=\"Is there any mention of 'carbon capture and storage' in this climate city contract?\"),\n",
       "  AIMessage(content='The search did not yield any specific mention of \"carbon capture and storage\" in the Climate City Contract for Barcelona. However, it does mention \"carbon sequestration\" as part of the residual emissions strategy. The document states that carbon sequestration is the third leg of the strategy, but it is currently underdeveloped. There is a working commission on the subject, promoted by the BIT Habitat Foundation, which aims to identify local entities with knowledge and experience in CO2 capture, share knowledge, projects, and initiatives on CO2 capture being carried out in Barcelona, and identify possible alliances between existing projects or programs to promote CO2 capture.\\n\\nSource:\\n- Document: Barcelona Climate City Contract (Extracted Content)'),\n",
       "  HumanMessage(content=\"Is there any mention of 'carbon capture and storage' in this climate city contract?\"),\n",
       "  AIMessage(content='The Climate City Contract for Barcelona does not specifically mention \"carbon capture and storage.\" However, it does refer to \"carbon sequestration\" as part of the residual emissions strategy. The document states that carbon sequestration is the third leg of the strategy, but it is currently underdeveloped. There is a working commission on the subject, promoted by the BIT Habitat Foundation, which aims to identify local entities with knowledge and experience in CO2 capture, share knowledge, projects, and initiatives on CO2 capture being carried out in Barcelona, and identify possible alliances between existing projects or programs to promote CO2 capture.\\n\\nSource:\\n- Document: Barcelona Climate City Contract (Extracted Content)')],\n",
       " 'output': 'The search did not yield any specific mention of \"carbon capture and storage\" in the Climate City Contract for Barcelona. However, it does mention \"carbon sequestration\" as part of the residual emissions strategy. The document states that carbon sequestration is the third leg of the strategy, but it is currently underdeveloped. There is a working commission on the subject, promoted by the BIT Habitat Foundation, which aims to identify local entities with knowledge and experience in CO2 capture, share knowledge, projects, and initiatives on CO2 capture being carried out in Barcelona, and identify possible alliances between existing projects or programs to promote CO2 capture.\\n\\nSource:\\n- Document: Barcelona Climate City Contract (Extracted Content)'}"
      ]
     },
     "execution_count": 50,
     "metadata": {},
     "output_type": "execute_result"
    }
   ],
   "source": [
    "response"
   ]
  }
 ],
 "metadata": {
  "kernelspec": {
   "display_name": "Python 3",
   "language": "python",
   "name": "python3"
  },
  "language_info": {
   "codemirror_mode": {
    "name": "ipython",
    "version": 3
   },
   "file_extension": ".py",
   "mimetype": "text/x-python",
   "name": "python",
   "nbconvert_exporter": "python",
   "pygments_lexer": "ipython3",
   "version": "3.12.2"
  }
 },
 "nbformat": 4,
 "nbformat_minor": 2
}
